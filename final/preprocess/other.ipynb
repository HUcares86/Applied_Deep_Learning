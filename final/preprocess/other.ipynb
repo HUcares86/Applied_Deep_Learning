{
 "cells": [
  {
   "cell_type": "code",
   "execution_count": 190,
   "metadata": {},
   "outputs": [],
   "source": [
    "import pandas as pd\n",
    "import matplotlib.pyplot as plt\n",
    "\n"
   ]
  },
  {
   "cell_type": "code",
   "execution_count": 191,
   "metadata": {},
   "outputs": [
    {
     "data": {
      "text/html": [
       "<div>\n",
       "<style scoped>\n",
       "    .dataframe tbody tr th:only-of-type {\n",
       "        vertical-align: middle;\n",
       "    }\n",
       "\n",
       "    .dataframe tbody tr th {\n",
       "        vertical-align: top;\n",
       "    }\n",
       "\n",
       "    .dataframe thead th {\n",
       "        text-align: right;\n",
       "    }\n",
       "</style>\n",
       "<table border=\"1\" class=\"dataframe\">\n",
       "  <thead>\n",
       "    <tr style=\"text-align: right;\">\n",
       "      <th></th>\n",
       "      <th>user_id</th>\n",
       "      <th>course_id</th>\n",
       "    </tr>\n",
       "  </thead>\n",
       "  <tbody>\n",
       "    <tr>\n",
       "      <th>0</th>\n",
       "      <td>56dae2b74e3ef90900b7bd0e</td>\n",
       "      <td>5b61928a8011d1001e356102</td>\n",
       "    </tr>\n",
       "    <tr>\n",
       "      <th>1</th>\n",
       "      <td>60e66f29be3e3b0006c4db75</td>\n",
       "      <td>559e49185850311000fca504</td>\n",
       "    </tr>\n",
       "    <tr>\n",
       "      <th>2</th>\n",
       "      <td>5c919efb728ddf00208b9b2b</td>\n",
       "      <td>60ddc3ca06259d00064c7f17 60aeac37bca91777bf5bb...</td>\n",
       "    </tr>\n",
       "    <tr>\n",
       "      <th>3</th>\n",
       "      <td>5ac115507997a2001e7c3617</td>\n",
       "      <td>58d5c70c27ea7d070060160e</td>\n",
       "    </tr>\n",
       "    <tr>\n",
       "      <th>4</th>\n",
       "      <td>5f53b84440c5be3bb873a9d3</td>\n",
       "      <td>5f55fb39b34335d28416bd0c</td>\n",
       "    </tr>\n",
       "  </tbody>\n",
       "</table>\n",
       "</div>"
      ],
      "text/plain": [
       "                    user_id                                          course_id\n",
       "0  56dae2b74e3ef90900b7bd0e                           5b61928a8011d1001e356102\n",
       "1  60e66f29be3e3b0006c4db75                           559e49185850311000fca504\n",
       "2  5c919efb728ddf00208b9b2b  60ddc3ca06259d00064c7f17 60aeac37bca91777bf5bb...\n",
       "3  5ac115507997a2001e7c3617                           58d5c70c27ea7d070060160e\n",
       "4  5f53b84440c5be3bb873a9d3                           5f55fb39b34335d28416bd0c"
      ]
     },
     "execution_count": 191,
     "metadata": {},
     "output_type": "execute_result"
    }
   ],
   "source": [
    "name = 'val_seen'\n",
    "id2cid = pd.read_csv('./id2cid.csv')\n",
    "data = pd.read_csv(f'../data/{name}.csv')\n",
    "data.head(5)"
   ]
  },
  {
   "cell_type": "code",
   "execution_count": null,
   "metadata": {},
   "outputs": [],
   "source": []
  },
  {
   "cell_type": "code",
   "execution_count": 192,
   "metadata": {},
   "outputs": [
    {
     "name": "stdout",
     "output_type": "stream",
     "text": [
      "                    user_id course_id  course_taken\n",
      "0  56dae2b74e3ef90900b7bd0e       [x]             1\n",
      "1  60e66f29be3e3b0006c4db75       [x]             1\n",
      "2  5c919efb728ddf00208b9b2b       [x]             1\n",
      "3  5ac115507997a2001e7c3617       [x]             1\n",
      "4  5f53b84440c5be3bb873a9d3       [x]             1\n",
      "(courses x people) 10056 taken, 12512 dropped\n"
     ]
    }
   ],
   "source": [
    "id2cid = list(id2cid['course_id'])\n",
    "cid2id = {x: i  for i, x in enumerate(id2cid)}\n",
    "\n",
    "# counts = [0 for _ in range(len(id2cid))]\n",
    "# for i in range(len(data)):\n",
    "#     for x in data['course_id'][i].split(' '):\n",
    "#         counts[cid2id[x]] += 1\n",
    "# pivot = sorted(counts)[-100]\n",
    "# mask = [x >= pivot for x in counts]\n",
    "# print(sum(mask), 'classes is preserved, others are dropped.')\n",
    "\n",
    "# id2cid = [x for x, y in zip(id2cid, mask) if y]\n",
    "# cid2id = {x: i  for i, x in enumerate(id2cid)}\n",
    "dropped = 0\n",
    "for i in range(len(data)):\n",
    "    tmp = []\n",
    "    for x in data['course_id'][i].split(' '):\n",
    "        if x in cid2id:\n",
    "            tmp.append(cid2id[x])\n",
    "        else:\n",
    "            dropped += 1\n",
    "    if not tmp:\n",
    "        data['course_id'][i] = ['x']\n",
    "    else:\n",
    "        data['course_id'][i] = tmp\n",
    "data = data.assign(course_taken = [len(x) for x in data['course_id']])\n",
    "# data = data[data['course_taken'] != 0]\n",
    "data.reset_index(drop=True, inplace=True)\n",
    "\n",
    "print(data.head(5))\n",
    "print('(courses x people)', sum(data['course_taken']), 'taken,', dropped, 'dropped')"
   ]
  },
  {
   "cell_type": "code",
   "execution_count": 193,
   "metadata": {},
   "outputs": [
    {
     "data": {
      "text/html": [
       "<div>\n",
       "<style scoped>\n",
       "    .dataframe tbody tr th:only-of-type {\n",
       "        vertical-align: middle;\n",
       "    }\n",
       "\n",
       "    .dataframe tbody tr th {\n",
       "        vertical-align: top;\n",
       "    }\n",
       "\n",
       "    .dataframe thead th {\n",
       "        text-align: right;\n",
       "    }\n",
       "</style>\n",
       "<table border=\"1\" class=\"dataframe\">\n",
       "  <thead>\n",
       "    <tr style=\"text-align: right;\">\n",
       "      <th></th>\n",
       "      <th>course_taken</th>\n",
       "    </tr>\n",
       "  </thead>\n",
       "  <tbody>\n",
       "    <tr>\n",
       "      <th>count</th>\n",
       "      <td>7748.000000</td>\n",
       "    </tr>\n",
       "    <tr>\n",
       "      <th>mean</th>\n",
       "      <td>1.297883</td>\n",
       "    </tr>\n",
       "    <tr>\n",
       "      <th>std</th>\n",
       "      <td>1.033109</td>\n",
       "    </tr>\n",
       "    <tr>\n",
       "      <th>min</th>\n",
       "      <td>1.000000</td>\n",
       "    </tr>\n",
       "    <tr>\n",
       "      <th>25%</th>\n",
       "      <td>1.000000</td>\n",
       "    </tr>\n",
       "    <tr>\n",
       "      <th>50%</th>\n",
       "      <td>1.000000</td>\n",
       "    </tr>\n",
       "    <tr>\n",
       "      <th>75%</th>\n",
       "      <td>1.000000</td>\n",
       "    </tr>\n",
       "    <tr>\n",
       "      <th>max</th>\n",
       "      <td>14.000000</td>\n",
       "    </tr>\n",
       "  </tbody>\n",
       "</table>\n",
       "</div>"
      ],
      "text/plain": [
       "       course_taken\n",
       "count   7748.000000\n",
       "mean       1.297883\n",
       "std        1.033109\n",
       "min        1.000000\n",
       "25%        1.000000\n",
       "50%        1.000000\n",
       "75%        1.000000\n",
       "max       14.000000"
      ]
     },
     "execution_count": 193,
     "metadata": {},
     "output_type": "execute_result"
    }
   ],
   "source": [
    "# data.plot() # except 3 outlier, other people takes 60 classes at most\n",
    "data.describe()"
   ]
  },
  {
   "cell_type": "code",
   "execution_count": 194,
   "metadata": {},
   "outputs": [
    {
     "data": {
      "text/html": [
       "<div>\n",
       "<style scoped>\n",
       "    .dataframe tbody tr th:only-of-type {\n",
       "        vertical-align: middle;\n",
       "    }\n",
       "\n",
       "    .dataframe tbody tr th {\n",
       "        vertical-align: top;\n",
       "    }\n",
       "\n",
       "    .dataframe thead th {\n",
       "        text-align: right;\n",
       "    }\n",
       "</style>\n",
       "<table border=\"1\" class=\"dataframe\">\n",
       "  <thead>\n",
       "    <tr style=\"text-align: right;\">\n",
       "      <th></th>\n",
       "      <th>number</th>\n",
       "    </tr>\n",
       "  </thead>\n",
       "  <tbody>\n",
       "    <tr>\n",
       "      <th>count</th>\n",
       "      <td>50.000000</td>\n",
       "    </tr>\n",
       "    <tr>\n",
       "      <th>mean</th>\n",
       "      <td>106.100000</td>\n",
       "    </tr>\n",
       "    <tr>\n",
       "      <th>std</th>\n",
       "      <td>126.083913</td>\n",
       "    </tr>\n",
       "    <tr>\n",
       "      <th>min</th>\n",
       "      <td>0.000000</td>\n",
       "    </tr>\n",
       "    <tr>\n",
       "      <th>25%</th>\n",
       "      <td>31.750000</td>\n",
       "    </tr>\n",
       "    <tr>\n",
       "      <th>50%</th>\n",
       "      <td>61.000000</td>\n",
       "    </tr>\n",
       "    <tr>\n",
       "      <th>75%</th>\n",
       "      <td>120.250000</td>\n",
       "    </tr>\n",
       "    <tr>\n",
       "      <th>max</th>\n",
       "      <td>492.000000</td>\n",
       "    </tr>\n",
       "  </tbody>\n",
       "</table>\n",
       "</div>"
      ],
      "text/plain": [
       "           number\n",
       "count   50.000000\n",
       "mean   106.100000\n",
       "std    126.083913\n",
       "min      0.000000\n",
       "25%     31.750000\n",
       "50%     61.000000\n",
       "75%    120.250000\n",
       "max    492.000000"
      ]
     },
     "execution_count": 194,
     "metadata": {},
     "output_type": "execute_result"
    },
    {
     "data": {
      "image/png": "[encoded data removed]",
      "text/plain": [
       "<Figure size 640x480 with 1 Axes>"
      ]
     },
     "metadata": {},
     "output_type": "display_data"
    }
   ],
   "source": [
    "courses = [0 for _ in range(len(id2cid))]\n",
    "for i in range(len(data)):\n",
    "    for x in data['course_id'][i]:\n",
    "        if x == 'x':\n",
    "            break\n",
    "        courses[x] += 1\n",
    "plt.plot([i for i in range(len(courses))], sorted(courses))\n",
    "\n",
    "if isinstance(courses, list):\n",
    "    courses = [[x] for x in courses]\n",
    "    courses = pd.DataFrame(courses, columns=['number'])\n",
    "courses.describe()\n"
   ]
  },
  {
   "cell_type": "code",
   "execution_count": 195,
   "metadata": {},
   "outputs": [
    {
     "name": "stderr",
     "output_type": "stream",
     "text": [
      "/tmp/ipykernel_977615/2789301022.py:3: SettingWithCopyWarning: \n",
      "A value is trying to be set on a copy of a slice from a DataFrame\n",
      "\n",
      "See the caveats in the documentation: https://pandas.pydata.org/pandas-docs/stable/user_guide/indexing.html#returning-a-view-versus-a-copy\n",
      "  preprocessed_data['course_id'][i] = ' '.join(str(x) for x in preprocessed_data['course_id'][i])\n"
     ]
    },
    {
     "name": "stdout",
     "output_type": "stream",
     "text": [
      "                    user_id course_id\n",
      "0  56dae2b74e3ef90900b7bd0e         x\n",
      "1  60e66f29be3e3b0006c4db75         x\n",
      "2  5c919efb728ddf00208b9b2b         x\n",
      "3  5ac115507997a2001e7c3617         x\n",
      "4  5f53b84440c5be3bb873a9d3         x\n",
      "['x']\n"
     ]
    }
   ],
   "source": [
    "preprocessed_data = data.copy()\n",
    "for i in range(len(preprocessed_data)):\n",
    "    preprocessed_data['course_id'][i] = ' '.join(str(x) for x in preprocessed_data['course_id'][i])\n",
    "preprocessed_data.to_csv(f'./{name}_preprocessed.csv', index=False, columns=['user_id', 'course_id'])\n",
    "df = pd.read_csv(f'./{name}_preprocessed.csv')\n",
    "print(df.head(5))\n",
    "print(df['course_id'][0].split(' '))"
   ]
  },
  {
   "cell_type": "code",
   "execution_count": 196,
   "metadata": {},
   "outputs": [
    {
     "data": {
      "text/html": [
       "<div>\n",
       "<style scoped>\n",
       "    .dataframe tbody tr th:only-of-type {\n",
       "        vertical-align: middle;\n",
       "    }\n",
       "\n",
       "    .dataframe tbody tr th {\n",
       "        vertical-align: top;\n",
       "    }\n",
       "\n",
       "    .dataframe thead th {\n",
       "        text-align: right;\n",
       "    }\n",
       "</style>\n",
       "<table border=\"1\" class=\"dataframe\">\n",
       "  <thead>\n",
       "    <tr style=\"text-align: right;\">\n",
       "      <th></th>\n",
       "      <th>user_id</th>\n",
       "      <th>gender</th>\n",
       "      <th>interests</th>\n",
       "    </tr>\n",
       "  </thead>\n",
       "  <tbody>\n",
       "    <tr>\n",
       "      <th>0</th>\n",
       "      <td>54ccaa73a784960a00948687</td>\n",
       "      <td>0</td>\n",
       "      <td>26 7 39 28 3 5 6 31 4 21</td>\n",
       "    </tr>\n",
       "    <tr>\n",
       "      <th>1</th>\n",
       "      <td>54dca4456d7d350900e86bae</td>\n",
       "      <td>1</td>\n",
       "      <td>28 3 33 23 25 31 39 32 7 55 4</td>\n",
       "    </tr>\n",
       "    <tr>\n",
       "      <th>2</th>\n",
       "      <td>54e421bac5c9c00900cd8d47</td>\n",
       "      <td>0</td>\n",
       "      <td>3 14 4 6 20 11</td>\n",
       "    </tr>\n",
       "    <tr>\n",
       "      <th>3</th>\n",
       "      <td>54e961d4c5c9c00900cd8d84</td>\n",
       "      <td>2</td>\n",
       "      <td>2 8 5 43 36 18 55</td>\n",
       "    </tr>\n",
       "    <tr>\n",
       "      <th>4</th>\n",
       "      <td>54e9b744c5c9c00900cd8d8a</td>\n",
       "      <td>2</td>\n",
       "      <td>32 2 5 25 45 18</td>\n",
       "    </tr>\n",
       "  </tbody>\n",
       "</table>\n",
       "</div>"
      ],
      "text/plain": [
       "                    user_id  gender                      interests\n",
       "0  54ccaa73a784960a00948687       0       26 7 39 28 3 5 6 31 4 21\n",
       "1  54dca4456d7d350900e86bae       1  28 3 33 23 25 31 39 32 7 55 4\n",
       "2  54e421bac5c9c00900cd8d47       0                 3 14 4 6 20 11\n",
       "3  54e961d4c5c9c00900cd8d84       2              2 8 5 43 36 18 55\n",
       "4  54e9b744c5c9c00900cd8d8a       2                32 2 5 25 45 18"
      ]
     },
     "execution_count": 196,
     "metadata": {},
     "output_type": "execute_result"
    }
   ],
   "source": [
    "user = pd.read_csv('../data/users_preprocessed.csv', usecols=['user_id', 'gender', 'interests'])\n",
    "train = pd.read_csv(f'./{name}_preprocessed.csv', usecols=['user_id', 'course_id'])\n",
    "user.head(5)"
   ]
  },
  {
   "cell_type": "code",
   "execution_count": 197,
   "metadata": {},
   "outputs": [
    {
     "data": {
      "text/html": [
       "<div>\n",
       "<style scoped>\n",
       "    .dataframe tbody tr th:only-of-type {\n",
       "        vertical-align: middle;\n",
       "    }\n",
       "\n",
       "    .dataframe tbody tr th {\n",
       "        vertical-align: top;\n",
       "    }\n",
       "\n",
       "    .dataframe thead th {\n",
       "        text-align: right;\n",
       "    }\n",
       "</style>\n",
       "<table border=\"1\" class=\"dataframe\">\n",
       "  <thead>\n",
       "    <tr style=\"text-align: right;\">\n",
       "      <th></th>\n",
       "      <th>user_id</th>\n",
       "      <th>course_id</th>\n",
       "    </tr>\n",
       "  </thead>\n",
       "  <tbody>\n",
       "    <tr>\n",
       "      <th>0</th>\n",
       "      <td>56dae2b74e3ef90900b7bd0e</td>\n",
       "      <td>x</td>\n",
       "    </tr>\n",
       "    <tr>\n",
       "      <th>1</th>\n",
       "      <td>60e66f29be3e3b0006c4db75</td>\n",
       "      <td>x</td>\n",
       "    </tr>\n",
       "    <tr>\n",
       "      <th>2</th>\n",
       "      <td>5c919efb728ddf00208b9b2b</td>\n",
       "      <td>x</td>\n",
       "    </tr>\n",
       "    <tr>\n",
       "      <th>3</th>\n",
       "      <td>5ac115507997a2001e7c3617</td>\n",
       "      <td>x</td>\n",
       "    </tr>\n",
       "    <tr>\n",
       "      <th>4</th>\n",
       "      <td>5f53b84440c5be3bb873a9d3</td>\n",
       "      <td>x</td>\n",
       "    </tr>\n",
       "  </tbody>\n",
       "</table>\n",
       "</div>"
      ],
      "text/plain": [
       "                    user_id course_id\n",
       "0  56dae2b74e3ef90900b7bd0e         x\n",
       "1  60e66f29be3e3b0006c4db75         x\n",
       "2  5c919efb728ddf00208b9b2b         x\n",
       "3  5ac115507997a2001e7c3617         x\n",
       "4  5f53b84440c5be3bb873a9d3         x"
      ]
     },
     "execution_count": 197,
     "metadata": {},
     "output_type": "execute_result"
    }
   ],
   "source": [
    "train.head(5)"
   ]
  },
  {
   "cell_type": "code",
   "execution_count": 198,
   "metadata": {},
   "outputs": [
    {
     "data": {
      "text/html": [
       "<div>\n",
       "<style scoped>\n",
       "    .dataframe tbody tr th:only-of-type {\n",
       "        vertical-align: middle;\n",
       "    }\n",
       "\n",
       "    .dataframe tbody tr th {\n",
       "        vertical-align: top;\n",
       "    }\n",
       "\n",
       "    .dataframe thead th {\n",
       "        text-align: right;\n",
       "    }\n",
       "</style>\n",
       "<table border=\"1\" class=\"dataframe\">\n",
       "  <thead>\n",
       "    <tr style=\"text-align: right;\">\n",
       "      <th></th>\n",
       "      <th>user_id</th>\n",
       "      <th>gender</th>\n",
       "      <th>interests</th>\n",
       "      <th>course_id</th>\n",
       "    </tr>\n",
       "  </thead>\n",
       "  <tbody>\n",
       "    <tr>\n",
       "      <th>0</th>\n",
       "      <td>56dae2b74e3ef90900b7bd0e</td>\n",
       "      <td>0</td>\n",
       "      <td>23 50 51 1 25</td>\n",
       "      <td>x</td>\n",
       "    </tr>\n",
       "    <tr>\n",
       "      <th>1</th>\n",
       "      <td>60e66f29be3e3b0006c4db75</td>\n",
       "      <td>0</td>\n",
       "      <td>62 57 41 2 24 3 27 5 16 11 66 4 59 22 12 87 83...</td>\n",
       "      <td>x</td>\n",
       "    </tr>\n",
       "    <tr>\n",
       "      <th>2</th>\n",
       "      <td>5c919efb728ddf00208b9b2b</td>\n",
       "      <td>1</td>\n",
       "      <td>1 19 6 23 25 17 11 14 7 4 53 85 10 24 29 8 9 3...</td>\n",
       "      <td>x</td>\n",
       "    </tr>\n",
       "    <tr>\n",
       "      <th>3</th>\n",
       "      <td>5ac115507997a2001e7c3617</td>\n",
       "      <td>3</td>\n",
       "      <td>25 23 32 17</td>\n",
       "      <td>x</td>\n",
       "    </tr>\n",
       "    <tr>\n",
       "      <th>4</th>\n",
       "      <td>5f53b84440c5be3bb873a9d3</td>\n",
       "      <td>1</td>\n",
       "      <td>82 76 61 36 24 43 55 71 81 41 1 8</td>\n",
       "      <td>x</td>\n",
       "    </tr>\n",
       "  </tbody>\n",
       "</table>\n",
       "</div>"
      ],
      "text/plain": [
       "                    user_id  gender  \\\n",
       "0  56dae2b74e3ef90900b7bd0e       0   \n",
       "1  60e66f29be3e3b0006c4db75       0   \n",
       "2  5c919efb728ddf00208b9b2b       1   \n",
       "3  5ac115507997a2001e7c3617       3   \n",
       "4  5f53b84440c5be3bb873a9d3       1   \n",
       "\n",
       "                                           interests course_id  \n",
       "0                                      23 50 51 1 25         x  \n",
       "1  62 57 41 2 24 3 27 5 16 11 66 4 59 22 12 87 83...         x  \n",
       "2  1 19 6 23 25 17 11 14 7 4 53 85 10 24 29 8 9 3...         x  \n",
       "3                                        25 23 32 17         x  \n",
       "4                  82 76 61 36 24 43 55 71 81 41 1 8         x  "
      ]
     },
     "execution_count": 198,
     "metadata": {},
     "output_type": "execute_result"
    }
   ],
   "source": [
    "merged = pd.merge(train, user, on='user_id')\n",
    "merged = merged.reindex(columns=['user_id', 'gender', 'interests', 'course_id'])\n",
    "merged.head(5)\n",
    "merged.to_csv(f'./{name}_preprocessed.csv', index=False, columns=['user_id', 'gender', 'interests', 'course_id'])\n",
    "df = pd.read_csv(f'./{name}_preprocessed.csv')\n",
    "df.head(5)"
   ]
  }
 ],
 "metadata": {
  "kernelspec": {
   "display_name": "Python 3.8.10 ('adl_env': venv)",
   "language": "python",
   "name": "python3"
  },
  "language_info": {
   "codemirror_mode": {
    "name": "ipython",
    "version": 3
   },
   "file_extension": ".py",
   "mimetype": "text/x-python",
   "name": "python",
   "nbconvert_exporter": "python",
   "pygments_lexer": "ipython3",
   "version": "3.8.10"
  },
  "orig_nbformat": 4,
  "vscode": {
   "interpreter": {
    "hash": "63b9acef26227fa3e31b1dab21425c74193e9e974f0b83e797037bcd4bb781d0"
   }
  }
 },
 "nbformat": 4,
 "nbformat_minor": 2
}

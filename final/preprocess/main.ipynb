{
 "cells": [
  {
   "cell_type": "code",
   "execution_count": 154,
   "metadata": {},
   "outputs": [],
   "source": [
    "import pandas as pd\n",
    "import matplotlib.pyplot as plt\n",
    "\n",
    "# 也許在前期 epoch 的時候，比如說某個使用者買了 A, B, C 課\n",
    "# 我們可以假設另一個使用者買了 B, C 然後要模型產出一樣的結果\n",
    "# 我們更可以假設另一個使用者買了 A 然後要模型要產出 B\n",
    "# 我們更可以假設另一個使用者買了 A, B 然後要模型要產出 C\n",
    "\n",
    "SELECT_CLASS_NUM = 50\n"
   ]
  },
  {
   "cell_type": "code",
   "execution_count": 155,
   "metadata": {},
   "outputs": [
    {
     "data": {
      "text/html": [
       "<div>\n",
       "<style scoped>\n",
       "    .dataframe tbody tr th:only-of-type {\n",
       "        vertical-align: middle;\n",
       "    }\n",
       "\n",
       "    .dataframe tbody tr th {\n",
       "        vertical-align: top;\n",
       "    }\n",
       "\n",
       "    .dataframe thead th {\n",
       "        text-align: right;\n",
       "    }\n",
       "</style>\n",
       "<table border=\"1\" class=\"dataframe\">\n",
       "  <thead>\n",
       "    <tr style=\"text-align: right;\">\n",
       "      <th></th>\n",
       "      <th>user_id</th>\n",
       "      <th>course_id</th>\n",
       "    </tr>\n",
       "  </thead>\n",
       "  <tbody>\n",
       "    <tr>\n",
       "      <th>0</th>\n",
       "      <td>5bdecbfffec014002166796a</td>\n",
       "      <td>5f194354cad0d086f3ee24cf</td>\n",
       "    </tr>\n",
       "    <tr>\n",
       "      <th>1</th>\n",
       "      <td>5fedf958af850a915c86362c</td>\n",
       "      <td>5bfd47782d018e0020e4b0e4 5fc4a352d375951a03cc0...</td>\n",
       "    </tr>\n",
       "    <tr>\n",
       "      <th>2</th>\n",
       "      <td>5fd255c43136a460c6f3f930</td>\n",
       "      <td>598053e0acc137070007186a 6031136edd9bc1681035b892</td>\n",
       "    </tr>\n",
       "    <tr>\n",
       "      <th>3</th>\n",
       "      <td>5a0bde2aa15b3f001e98429a</td>\n",
       "      <td>5fc5ed671be929537e5283bb 5fc5edae001c9102feab8...</td>\n",
       "    </tr>\n",
       "    <tr>\n",
       "      <th>4</th>\n",
       "      <td>5fedf8132a0eb0bfab27882b</td>\n",
       "      <td>5e8e9d3c5a140c3d1e1c5245</td>\n",
       "    </tr>\n",
       "  </tbody>\n",
       "</table>\n",
       "</div>"
      ],
      "text/plain": [
       "                    user_id                                          course_id\n",
       "0  5bdecbfffec014002166796a                           5f194354cad0d086f3ee24cf\n",
       "1  5fedf958af850a915c86362c  5bfd47782d018e0020e4b0e4 5fc4a352d375951a03cc0...\n",
       "2  5fd255c43136a460c6f3f930  598053e0acc137070007186a 6031136edd9bc1681035b892\n",
       "3  5a0bde2aa15b3f001e98429a  5fc5ed671be929537e5283bb 5fc5edae001c9102feab8...\n",
       "4  5fedf8132a0eb0bfab27882b                           5e8e9d3c5a140c3d1e1c5245"
      ]
     },
     "execution_count": 155,
     "metadata": {},
     "output_type": "execute_result"
    }
   ],
   "source": [
    "course = pd.read_csv('../data/courses.csv')\n",
    "data = pd.read_csv('../data/train.csv')\n",
    "data.head(5)"
   ]
  },
  {
   "cell_type": "code",
   "execution_count": null,
   "metadata": {},
   "outputs": [],
   "source": []
  },
  {
   "cell_type": "code",
   "execution_count": 156,
   "metadata": {},
   "outputs": [
    {
     "name": "stdout",
     "output_type": "stream",
     "text": [
      "50 classes is preserved, others are dropped.\n",
      "                    user_id        course_id  course_taken\n",
      "0  5bdecbfffec014002166796a              [x]             1\n",
      "1  5fedf958af850a915c86362c  [8, 27, 41, 25]             4\n",
      "2  5fd255c43136a460c6f3f930              [x]             1\n",
      "3  5a0bde2aa15b3f001e98429a     [22, 21, 23]             3\n",
      "4  5fedf8132a0eb0bfab27882b              [x]             1\n",
      "(courses x people) 103018 taken, 53645 dropped\n"
     ]
    }
   ],
   "source": [
    "id2cid = list(course['course_id'])\n",
    "cid2id = {x: i  for i, x in enumerate(id2cid)}\n",
    "\n",
    "counts = [0 for _ in range(len(id2cid))]\n",
    "for i in range(len(data)):\n",
    "    for x in data['course_id'][i].split(' '):\n",
    "        counts[cid2id[x]] += 1\n",
    "pivot = sorted(counts)[-SELECT_CLASS_NUM]\n",
    "mask = [x >= pivot for x in counts]\n",
    "print(sum(mask), 'classes is preserved, others are dropped.')\n",
    "\n",
    "id2cid = [x for x, y in zip(id2cid, mask) if y]\n",
    "cid2id = {x: i  for i, x in enumerate(id2cid)}\n",
    "\n",
    "dropped = 0\n",
    "for i in range(len(data)):\n",
    "    tmp = []\n",
    "    for x in data['course_id'][i].split(' '):\n",
    "        if x in cid2id:\n",
    "            tmp.append(cid2id[x])\n",
    "        else:\n",
    "            dropped += 1\n",
    "    if not tmp:\n",
    "        data['course_id'][i] = ['x']\n",
    "    else:\n",
    "        data['course_id'][i] = tmp\n",
    "data = data.assign(course_taken = [len(x) for x in data['course_id']])\n",
    "# data = data[data['course_taken'] != 0]\n",
    "data.reset_index(drop=True, inplace=True)\n",
    "\n",
    "print(data.head(5))\n",
    "print('(courses x people)', sum(data['course_taken']), 'taken,', dropped, 'dropped')"
   ]
  },
  {
   "cell_type": "code",
   "execution_count": 157,
   "metadata": {},
   "outputs": [],
   "source": [
    "\n",
    "id2cid = [[i, x] for i, x in enumerate(id2cid)]\n",
    "id2cid = pd.DataFrame(id2cid, columns=['index', 'course_id'])\n",
    "id2cid.to_csv('id2cid.csv', index=False, columns=['index', 'course_id'])"
   ]
  },
  {
   "cell_type": "code",
   "execution_count": 158,
   "metadata": {},
   "outputs": [
    {
     "data": {
      "text/html": [
       "<div>\n",
       "<style scoped>\n",
       "    .dataframe tbody tr th:only-of-type {\n",
       "        vertical-align: middle;\n",
       "    }\n",
       "\n",
       "    .dataframe tbody tr th {\n",
       "        vertical-align: top;\n",
       "    }\n",
       "\n",
       "    .dataframe thead th {\n",
       "        text-align: right;\n",
       "    }\n",
       "</style>\n",
       "<table border=\"1\" class=\"dataframe\">\n",
       "  <thead>\n",
       "    <tr style=\"text-align: right;\">\n",
       "      <th></th>\n",
       "      <th>course_taken</th>\n",
       "    </tr>\n",
       "  </thead>\n",
       "  <tbody>\n",
       "    <tr>\n",
       "      <th>count</th>\n",
       "      <td>59737.000000</td>\n",
       "    </tr>\n",
       "    <tr>\n",
       "      <th>mean</th>\n",
       "      <td>1.724526</td>\n",
       "    </tr>\n",
       "    <tr>\n",
       "      <th>std</th>\n",
       "      <td>1.704611</td>\n",
       "    </tr>\n",
       "    <tr>\n",
       "      <th>min</th>\n",
       "      <td>1.000000</td>\n",
       "    </tr>\n",
       "    <tr>\n",
       "      <th>25%</th>\n",
       "      <td>1.000000</td>\n",
       "    </tr>\n",
       "    <tr>\n",
       "      <th>50%</th>\n",
       "      <td>1.000000</td>\n",
       "    </tr>\n",
       "    <tr>\n",
       "      <th>75%</th>\n",
       "      <td>2.000000</td>\n",
       "    </tr>\n",
       "    <tr>\n",
       "      <th>max</th>\n",
       "      <td>21.000000</td>\n",
       "    </tr>\n",
       "  </tbody>\n",
       "</table>\n",
       "</div>"
      ],
      "text/plain": [
       "       course_taken\n",
       "count  59737.000000\n",
       "mean       1.724526\n",
       "std        1.704611\n",
       "min        1.000000\n",
       "25%        1.000000\n",
       "50%        1.000000\n",
       "75%        2.000000\n",
       "max       21.000000"
      ]
     },
     "execution_count": 158,
     "metadata": {},
     "output_type": "execute_result"
    }
   ],
   "source": [
    "# data.plot() # except 3 outlier, other people takes 60 classes at most\n",
    "data.describe()"
   ]
  },
  {
   "cell_type": "code",
   "execution_count": 159,
   "metadata": {},
   "outputs": [
    {
     "data": {
      "text/html": [
       "<div>\n",
       "<style scoped>\n",
       "    .dataframe tbody tr th:only-of-type {\n",
       "        vertical-align: middle;\n",
       "    }\n",
       "\n",
       "    .dataframe tbody tr th {\n",
       "        vertical-align: top;\n",
       "    }\n",
       "\n",
       "    .dataframe thead th {\n",
       "        text-align: right;\n",
       "    }\n",
       "</style>\n",
       "<table border=\"1\" class=\"dataframe\">\n",
       "  <thead>\n",
       "    <tr style=\"text-align: right;\">\n",
       "      <th></th>\n",
       "      <th>number</th>\n",
       "    </tr>\n",
       "  </thead>\n",
       "  <tbody>\n",
       "    <tr>\n",
       "      <th>count</th>\n",
       "      <td>50.000000</td>\n",
       "    </tr>\n",
       "    <tr>\n",
       "      <th>mean</th>\n",
       "      <td>1719.260000</td>\n",
       "    </tr>\n",
       "    <tr>\n",
       "      <th>std</th>\n",
       "      <td>1697.477238</td>\n",
       "    </tr>\n",
       "    <tr>\n",
       "      <th>min</th>\n",
       "      <td>517.000000</td>\n",
       "    </tr>\n",
       "    <tr>\n",
       "      <th>25%</th>\n",
       "      <td>699.000000</td>\n",
       "    </tr>\n",
       "    <tr>\n",
       "      <th>50%</th>\n",
       "      <td>1083.500000</td>\n",
       "    </tr>\n",
       "    <tr>\n",
       "      <th>75%</th>\n",
       "      <td>1531.750000</td>\n",
       "    </tr>\n",
       "    <tr>\n",
       "      <th>max</th>\n",
       "      <td>8582.000000</td>\n",
       "    </tr>\n",
       "  </tbody>\n",
       "</table>\n",
       "</div>"
      ],
      "text/plain": [
       "            number\n",
       "count    50.000000\n",
       "mean   1719.260000\n",
       "std    1697.477238\n",
       "min     517.000000\n",
       "25%     699.000000\n",
       "50%    1083.500000\n",
       "75%    1531.750000\n",
       "max    8582.000000"
      ]
     },
     "execution_count": 159,
     "metadata": {},
     "output_type": "execute_result"
    },
    {
     "data": {
      "image/png": "[encoded data removed]",
      "text/plain": [
       "<Figure size 640x480 with 1 Axes>"
      ]
     },
     "metadata": {},
     "output_type": "display_data"
    }
   ],
   "source": [
    "courses = [0 for _ in range(len(id2cid))]\n",
    "for i in range(len(data)):\n",
    "    for x in data['course_id'][i]:\n",
    "        if x == 'x':\n",
    "            break\n",
    "        courses[x] += 1\n",
    "plt.plot([i for i in range(len(courses))], sorted(courses))\n",
    "\n",
    "if isinstance(courses, list):\n",
    "    courses = [[x] for x in courses]\n",
    "    courses = pd.DataFrame(courses, columns=['number'])\n",
    "courses.describe()\n"
   ]
  },
  {
   "cell_type": "code",
   "execution_count": 160,
   "metadata": {},
   "outputs": [
    {
     "name": "stderr",
     "output_type": "stream",
     "text": [
      "/tmp/ipykernel_977546/207657832.py:3: SettingWithCopyWarning: \n",
      "A value is trying to be set on a copy of a slice from a DataFrame\n",
      "\n",
      "See the caveats in the documentation: https://pandas.pydata.org/pandas-docs/stable/user_guide/indexing.html#returning-a-view-versus-a-copy\n",
      "  preprocessed_data['course_id'][i] = ' '.join(str(x) for x in preprocessed_data['course_id'][i])\n"
     ]
    },
    {
     "name": "stdout",
     "output_type": "stream",
     "text": [
      "                    user_id   course_id\n",
      "0  5bdecbfffec014002166796a           x\n",
      "1  5fedf958af850a915c86362c  8 27 41 25\n",
      "2  5fd255c43136a460c6f3f930           x\n",
      "3  5a0bde2aa15b3f001e98429a    22 21 23\n",
      "4  5fedf8132a0eb0bfab27882b           x\n",
      "['x']\n"
     ]
    }
   ],
   "source": [
    "preprocessed_data = data.copy()\n",
    "for i in range(len(preprocessed_data)):\n",
    "    preprocessed_data['course_id'][i] = ' '.join(str(x) for x in preprocessed_data['course_id'][i])\n",
    "preprocessed_data.to_csv('train_preprocessed.csv', index=False, columns=['user_id', 'course_id'])\n",
    "df = pd.read_csv('train_preprocessed.csv')\n",
    "print(df.head(5))\n",
    "print(df['course_id'][0].split(' '))"
   ]
  },
  {
   "cell_type": "code",
   "execution_count": 161,
   "metadata": {},
   "outputs": [
    {
     "data": {
      "text/html": [
       "<div>\n",
       "<style scoped>\n",
       "    .dataframe tbody tr th:only-of-type {\n",
       "        vertical-align: middle;\n",
       "    }\n",
       "\n",
       "    .dataframe tbody tr th {\n",
       "        vertical-align: top;\n",
       "    }\n",
       "\n",
       "    .dataframe thead th {\n",
       "        text-align: right;\n",
       "    }\n",
       "</style>\n",
       "<table border=\"1\" class=\"dataframe\">\n",
       "  <thead>\n",
       "    <tr style=\"text-align: right;\">\n",
       "      <th></th>\n",
       "      <th>user_id</th>\n",
       "      <th>gender</th>\n",
       "      <th>interests</th>\n",
       "    </tr>\n",
       "  </thead>\n",
       "  <tbody>\n",
       "    <tr>\n",
       "      <th>0</th>\n",
       "      <td>54ccaa73a784960a00948687</td>\n",
       "      <td>0</td>\n",
       "      <td>26 7 39 28 3 5 6 31 4 21</td>\n",
       "    </tr>\n",
       "    <tr>\n",
       "      <th>1</th>\n",
       "      <td>54dca4456d7d350900e86bae</td>\n",
       "      <td>1</td>\n",
       "      <td>28 3 33 23 25 31 39 32 7 55 4</td>\n",
       "    </tr>\n",
       "    <tr>\n",
       "      <th>2</th>\n",
       "      <td>54e421bac5c9c00900cd8d47</td>\n",
       "      <td>0</td>\n",
       "      <td>3 14 4 6 20 11</td>\n",
       "    </tr>\n",
       "    <tr>\n",
       "      <th>3</th>\n",
       "      <td>54e961d4c5c9c00900cd8d84</td>\n",
       "      <td>2</td>\n",
       "      <td>2 8 5 43 36 18 55</td>\n",
       "    </tr>\n",
       "    <tr>\n",
       "      <th>4</th>\n",
       "      <td>54e9b744c5c9c00900cd8d8a</td>\n",
       "      <td>2</td>\n",
       "      <td>32 2 5 25 45 18</td>\n",
       "    </tr>\n",
       "  </tbody>\n",
       "</table>\n",
       "</div>"
      ],
      "text/plain": [
       "                    user_id  gender                      interests\n",
       "0  54ccaa73a784960a00948687       0       26 7 39 28 3 5 6 31 4 21\n",
       "1  54dca4456d7d350900e86bae       1  28 3 33 23 25 31 39 32 7 55 4\n",
       "2  54e421bac5c9c00900cd8d47       0                 3 14 4 6 20 11\n",
       "3  54e961d4c5c9c00900cd8d84       2              2 8 5 43 36 18 55\n",
       "4  54e9b744c5c9c00900cd8d8a       2                32 2 5 25 45 18"
      ]
     },
     "execution_count": 161,
     "metadata": {},
     "output_type": "execute_result"
    }
   ],
   "source": [
    "user = pd.read_csv('../data/users_preprocessed.csv', usecols=['user_id', 'gender', 'interests'])\n",
    "train = pd.read_csv('train_preprocessed.csv', usecols=['user_id', 'course_id'])\n",
    "user.head(5)"
   ]
  },
  {
   "cell_type": "code",
   "execution_count": 162,
   "metadata": {},
   "outputs": [
    {
     "data": {
      "text/html": [
       "<div>\n",
       "<style scoped>\n",
       "    .dataframe tbody tr th:only-of-type {\n",
       "        vertical-align: middle;\n",
       "    }\n",
       "\n",
       "    .dataframe tbody tr th {\n",
       "        vertical-align: top;\n",
       "    }\n",
       "\n",
       "    .dataframe thead th {\n",
       "        text-align: right;\n",
       "    }\n",
       "</style>\n",
       "<table border=\"1\" class=\"dataframe\">\n",
       "  <thead>\n",
       "    <tr style=\"text-align: right;\">\n",
       "      <th></th>\n",
       "      <th>user_id</th>\n",
       "      <th>course_id</th>\n",
       "    </tr>\n",
       "  </thead>\n",
       "  <tbody>\n",
       "    <tr>\n",
       "      <th>0</th>\n",
       "      <td>5bdecbfffec014002166796a</td>\n",
       "      <td>x</td>\n",
       "    </tr>\n",
       "    <tr>\n",
       "      <th>1</th>\n",
       "      <td>5fedf958af850a915c86362c</td>\n",
       "      <td>8 27 41 25</td>\n",
       "    </tr>\n",
       "    <tr>\n",
       "      <th>2</th>\n",
       "      <td>5fd255c43136a460c6f3f930</td>\n",
       "      <td>x</td>\n",
       "    </tr>\n",
       "    <tr>\n",
       "      <th>3</th>\n",
       "      <td>5a0bde2aa15b3f001e98429a</td>\n",
       "      <td>22 21 23</td>\n",
       "    </tr>\n",
       "    <tr>\n",
       "      <th>4</th>\n",
       "      <td>5fedf8132a0eb0bfab27882b</td>\n",
       "      <td>x</td>\n",
       "    </tr>\n",
       "  </tbody>\n",
       "</table>\n",
       "</div>"
      ],
      "text/plain": [
       "                    user_id   course_id\n",
       "0  5bdecbfffec014002166796a           x\n",
       "1  5fedf958af850a915c86362c  8 27 41 25\n",
       "2  5fd255c43136a460c6f3f930           x\n",
       "3  5a0bde2aa15b3f001e98429a    22 21 23\n",
       "4  5fedf8132a0eb0bfab27882b           x"
      ]
     },
     "execution_count": 162,
     "metadata": {},
     "output_type": "execute_result"
    }
   ],
   "source": [
    "train.head(5)"
   ]
  },
  {
   "cell_type": "code",
   "execution_count": 163,
   "metadata": {},
   "outputs": [
    {
     "data": {
      "text/html": [
       "<div>\n",
       "<style scoped>\n",
       "    .dataframe tbody tr th:only-of-type {\n",
       "        vertical-align: middle;\n",
       "    }\n",
       "\n",
       "    .dataframe tbody tr th {\n",
       "        vertical-align: top;\n",
       "    }\n",
       "\n",
       "    .dataframe thead th {\n",
       "        text-align: right;\n",
       "    }\n",
       "</style>\n",
       "<table border=\"1\" class=\"dataframe\">\n",
       "  <thead>\n",
       "    <tr style=\"text-align: right;\">\n",
       "      <th></th>\n",
       "      <th>user_id</th>\n",
       "      <th>gender</th>\n",
       "      <th>interests</th>\n",
       "      <th>course_id</th>\n",
       "    </tr>\n",
       "  </thead>\n",
       "  <tbody>\n",
       "    <tr>\n",
       "      <th>0</th>\n",
       "      <td>5bdecbfffec014002166796a</td>\n",
       "      <td>0</td>\n",
       "      <td>26 3 7 4 62 8 27</td>\n",
       "      <td>x</td>\n",
       "    </tr>\n",
       "    <tr>\n",
       "      <th>1</th>\n",
       "      <td>5fedf958af850a915c86362c</td>\n",
       "      <td>0</td>\n",
       "      <td>2 38 52 1 8 9</td>\n",
       "      <td>8 27 41 25</td>\n",
       "    </tr>\n",
       "    <tr>\n",
       "      <th>2</th>\n",
       "      <td>5fd255c43136a460c6f3f930</td>\n",
       "      <td>1</td>\n",
       "      <td>57 10 2 1 34 20 11 22 5 15 14 18</td>\n",
       "      <td>x</td>\n",
       "    </tr>\n",
       "    <tr>\n",
       "      <th>3</th>\n",
       "      <td>5a0bde2aa15b3f001e98429a</td>\n",
       "      <td>0</td>\n",
       "      <td>41 6 47 79 3</td>\n",
       "      <td>22 21 23</td>\n",
       "    </tr>\n",
       "    <tr>\n",
       "      <th>4</th>\n",
       "      <td>5fedf8132a0eb0bfab27882b</td>\n",
       "      <td>1</td>\n",
       "      <td>37 43</td>\n",
       "      <td>x</td>\n",
       "    </tr>\n",
       "  </tbody>\n",
       "</table>\n",
       "</div>"
      ],
      "text/plain": [
       "                    user_id  gender                         interests  \\\n",
       "0  5bdecbfffec014002166796a       0                  26 3 7 4 62 8 27   \n",
       "1  5fedf958af850a915c86362c       0                     2 38 52 1 8 9   \n",
       "2  5fd255c43136a460c6f3f930       1  57 10 2 1 34 20 11 22 5 15 14 18   \n",
       "3  5a0bde2aa15b3f001e98429a       0                      41 6 47 79 3   \n",
       "4  5fedf8132a0eb0bfab27882b       1                             37 43   \n",
       "\n",
       "    course_id  \n",
       "0           x  \n",
       "1  8 27 41 25  \n",
       "2           x  \n",
       "3    22 21 23  \n",
       "4           x  "
      ]
     },
     "execution_count": 163,
     "metadata": {},
     "output_type": "execute_result"
    }
   ],
   "source": [
    "merged = pd.merge(train, user, on='user_id')\n",
    "merged = merged.reindex(columns=['user_id', 'gender', 'interests', 'course_id'])\n",
    "merged.head(5)\n",
    "merged.to_csv('train_preprocessed.csv', index=False, columns=['user_id', 'gender', 'interests', 'course_id'])\n",
    "df = pd.read_csv('train_preprocessed.csv')\n",
    "df.head(5)"
   ]
  }
 ],
 "metadata": {
  "kernelspec": {
   "display_name": "Python 3.8.10 ('adl_env': venv)",
   "language": "python",
   "name": "python3"
  },
  "language_info": {
   "codemirror_mode": {
    "name": "ipython",
    "version": 3
   },
   "file_extension": ".py",
   "mimetype": "text/x-python",
   "name": "python",
   "nbconvert_exporter": "python",
   "pygments_lexer": "ipython3",
   "version": "3.8.10"
  },
  "orig_nbformat": 4,
  "vscode": {
   "interpreter": {
    "hash": "63b9acef26227fa3e31b1dab21425c74193e9e974f0b83e797037bcd4bb781d0"
   }
  }
 },
 "nbformat": 4,
 "nbformat_minor": 2
}

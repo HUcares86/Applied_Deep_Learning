{
 "cells": [
  {
   "cell_type": "code",
   "execution_count": 1,
   "metadata": {},
   "outputs": [],
   "source": [
    "import pandas as pd\n",
    "import matplotlib.pyplot as plt\n",
    "\n",
    "from collections import defaultdict\n"
   ]
  },
  {
   "cell_type": "code",
   "execution_count": 2,
   "metadata": {},
   "outputs": [
    {
     "data": {
      "text/html": [
       "<div>\n",
       "<style scoped>\n",
       "    .dataframe tbody tr th:only-of-type {\n",
       "        vertical-align: middle;\n",
       "    }\n",
       "\n",
       "    .dataframe tbody tr th {\n",
       "        vertical-align: top;\n",
       "    }\n",
       "\n",
       "    .dataframe thead th {\n",
       "        text-align: right;\n",
       "    }\n",
       "</style>\n",
       "<table border=\"1\" class=\"dataframe\">\n",
       "  <thead>\n",
       "    <tr style=\"text-align: right;\">\n",
       "      <th></th>\n",
       "      <th>user_id</th>\n",
       "      <th>gender</th>\n",
       "      <th>interests</th>\n",
       "    </tr>\n",
       "  </thead>\n",
       "  <tbody>\n",
       "    <tr>\n",
       "      <th>0</th>\n",
       "      <td>54ccaa73a784960a00948687</td>\n",
       "      <td>female</td>\n",
       "      <td>職場技能_創業,藝術_電腦繪圖,設計_介面設計,設計_動態設計,設計_平面設計,投資理財_投...</td>\n",
       "    </tr>\n",
       "    <tr>\n",
       "      <th>1</th>\n",
       "      <td>54dca4456d7d350900e86bae</td>\n",
       "      <td>male</td>\n",
       "      <td>設計_動態設計,設計_平面設計,設計_應用設計,程式_程式入門,程式_程式語言,藝術_角色設...</td>\n",
       "    </tr>\n",
       "    <tr>\n",
       "      <th>2</th>\n",
       "      <td>54e421bac5c9c00900cd8d47</td>\n",
       "      <td>female</td>\n",
       "      <td>設計_平面設計,職場技能_資料彙整,藝術_繪畫與插畫,行銷_數位行銷,職場技能_文書處理,職...</td>\n",
       "    </tr>\n",
       "    <tr>\n",
       "      <th>3</th>\n",
       "      <td>54e961d4c5c9c00900cd8d84</td>\n",
       "      <td>other</td>\n",
       "      <td>投資理財_理財,攝影_影像創作,投資理財_投資觀念,藝術_更多藝術,音樂_樂器,投資理財_金...</td>\n",
       "    </tr>\n",
       "    <tr>\n",
       "      <th>4</th>\n",
       "      <td>54e9b744c5c9c00900cd8d8a</td>\n",
       "      <td>other</td>\n",
       "      <td>程式_網頁前端,投資理財_理財,投資理財_投資觀念,程式_程式語言,設計_設計理論,投資理財...</td>\n",
       "    </tr>\n",
       "    <tr>\n",
       "      <th>5</th>\n",
       "      <td>54eac49bc5c9c00900cd8d95</td>\n",
       "      <td>male</td>\n",
       "      <td>行銷_文案,投資理財_理財,投資理財_投資觀念,行銷_數位行銷</td>\n",
       "    </tr>\n",
       "    <tr>\n",
       "      <th>6</th>\n",
       "      <td>54ef3499b839040f0001607d</td>\n",
       "      <td>male</td>\n",
       "      <td>攝影_商業攝影,設計_平面設計,藝術_電腦繪圖,攝影_影像創作,藝術_角色設計,藝術_繪畫與插畫</td>\n",
       "    </tr>\n",
       "    <tr>\n",
       "      <th>7</th>\n",
       "      <td>54ef34e2b839040f00016086</td>\n",
       "      <td>female</td>\n",
       "      <td>職場技能_職場溝通,職場技能_資料彙整,行銷_數位行銷,職場技能_文書處理</td>\n",
       "    </tr>\n",
       "    <tr>\n",
       "      <th>8</th>\n",
       "      <td>54ef354db839040f0001608b</td>\n",
       "      <td>other</td>\n",
       "      <td>音樂_人聲,藝術_電腦繪圖,音樂_音樂創作,程式_遊戲開發,藝術_字體設計</td>\n",
       "    </tr>\n",
       "    <tr>\n",
       "      <th>9</th>\n",
       "      <td>54ef3574b839040f0001608f</td>\n",
       "      <td>female</td>\n",
       "      <td>職場技能_創業,職場技能_求職,職場技能_效率提升,程式_程式入門,職場技能_職場溝通,程式...</td>\n",
       "    </tr>\n",
       "  </tbody>\n",
       "</table>\n",
       "</div>"
      ],
      "text/plain": [
       "                    user_id  gender  \\\n",
       "0  54ccaa73a784960a00948687  female   \n",
       "1  54dca4456d7d350900e86bae    male   \n",
       "2  54e421bac5c9c00900cd8d47  female   \n",
       "3  54e961d4c5c9c00900cd8d84   other   \n",
       "4  54e9b744c5c9c00900cd8d8a   other   \n",
       "5  54eac49bc5c9c00900cd8d95    male   \n",
       "6  54ef3499b839040f0001607d    male   \n",
       "7  54ef34e2b839040f00016086  female   \n",
       "8  54ef354db839040f0001608b   other   \n",
       "9  54ef3574b839040f0001608f  female   \n",
       "\n",
       "                                           interests  \n",
       "0  職場技能_創業,藝術_電腦繪圖,設計_介面設計,設計_動態設計,設計_平面設計,投資理財_投...  \n",
       "1  設計_動態設計,設計_平面設計,設計_應用設計,程式_程式入門,程式_程式語言,藝術_角色設...  \n",
       "2  設計_平面設計,職場技能_資料彙整,藝術_繪畫與插畫,行銷_數位行銷,職場技能_文書處理,職...  \n",
       "3  投資理財_理財,攝影_影像創作,投資理財_投資觀念,藝術_更多藝術,音樂_樂器,投資理財_金...  \n",
       "4  程式_網頁前端,投資理財_理財,投資理財_投資觀念,程式_程式語言,設計_設計理論,投資理財...  \n",
       "5                    行銷_文案,投資理財_理財,投資理財_投資觀念,行銷_數位行銷  \n",
       "6   攝影_商業攝影,設計_平面設計,藝術_電腦繪圖,攝影_影像創作,藝術_角色設計,藝術_繪畫與插畫  \n",
       "7              職場技能_職場溝通,職場技能_資料彙整,行銷_數位行銷,職場技能_文書處理  \n",
       "8              音樂_人聲,藝術_電腦繪圖,音樂_音樂創作,程式_遊戲開發,藝術_字體設計  \n",
       "9  職場技能_創業,職場技能_求職,職場技能_效率提升,程式_程式入門,職場技能_職場溝通,程式...  "
      ]
     },
     "execution_count": 2,
     "metadata": {},
     "output_type": "execute_result"
    }
   ],
   "source": [
    "user = pd.read_csv('./data/users.csv', usecols=['user_id', 'gender', 'interests'])\n",
    "user.head(10)"
   ]
  },
  {
   "cell_type": "code",
   "execution_count": 3,
   "metadata": {},
   "outputs": [
    {
     "name": "stdout",
     "output_type": "stream",
     "text": [
      "<bound method NDFrame.head of                          user_id  gender  \\\n",
      "0       54ccaa73a784960a00948687       0   \n",
      "1       54dca4456d7d350900e86bae       1   \n",
      "2       54e421bac5c9c00900cd8d47       0   \n",
      "3       54e961d4c5c9c00900cd8d84       2   \n",
      "4       54e9b744c5c9c00900cd8d8a       2   \n",
      "...                          ...     ...   \n",
      "130561  62e09de8fc3d3500060d4211       0   \n",
      "130562  62f0823a8c4414000667c592       3   \n",
      "130563  631b86242145060007efc7dd       3   \n",
      "130564  6331648104ed0f000610dfd2       1   \n",
      "130565  6358a7599c01ba344812d24d       1   \n",
      "\n",
      "                                                interests  \n",
      "0       職場技能_創業,藝術_電腦繪圖,設計_介面設計,設計_動態設計,設計_平面設計,投資理財_投...  \n",
      "1       設計_動態設計,設計_平面設計,設計_應用設計,程式_程式入門,程式_程式語言,藝術_角色設...  \n",
      "2       設計_平面設計,職場技能_資料彙整,藝術_繪畫與插畫,行銷_數位行銷,職場技能_文書處理,職...  \n",
      "3       投資理財_理財,攝影_影像創作,投資理財_投資觀念,藝術_更多藝術,音樂_樂器,投資理財_金...  \n",
      "4       程式_網頁前端,投資理財_理財,投資理財_投資觀念,程式_程式語言,設計_設計理論,投資理財...  \n",
      "...                                                   ...  \n",
      "130561  語言_英文,設計_介面設計,設計_網頁設計,設計_設計理論,程式_軟體程式開發與維護,行銷_...  \n",
      "130562                                      not specified  \n",
      "130563                                      not specified  \n",
      "130564          投資理財_理財,攝影_影像創作,攝影_後製剪輯,攝影_商業攝影,投資理財_投資觀念  \n",
      "130565  音樂_人聲,藝術_手寫字,藝術_色彩學,藝術_電腦繪圖,生活品味_靈性發展,藝術_素描,生活...  \n",
      "\n",
      "[130566 rows x 3 columns]>\n"
     ]
    },
    {
     "name": "stderr",
     "output_type": "stream",
     "text": [
      "/tmp/ipykernel_876059/2682426091.py:7: SettingWithCopyWarning: \n",
      "A value is trying to be set on a copy of a slice from a DataFrame\n",
      "\n",
      "See the caveats in the documentation: https://pandas.pydata.org/pandas-docs/stable/user_guide/indexing.html#returning-a-view-versus-a-copy\n",
      "  user['interests'][i] = user['interests'][i].split(',')\n"
     ]
    }
   ],
   "source": [
    "user['gender'] = user['gender'].fillna('not specified')\n",
    "user['interests'] = user['interests'].fillna('not specified')\n",
    "user['gender'] = user['gender'].map({'female': 0, 'male': 1, 'other': 2, 'not specified': 3}).astype('int')\n",
    "print(user.head)\n",
    "\n",
    "for i in range(len(user)):\n",
    "    user['interests'][i] = user['interests'][i].split(',')\n"
   ]
  },
  {
   "cell_type": "code",
   "execution_count": 4,
   "metadata": {},
   "outputs": [
    {
     "name": "stdout",
     "output_type": "stream",
     "text": [
      "kinds of interests: 96\n",
      "['not specified', '語言_英文', '投資理財_理財', '設計_平面設計', '藝術_繪畫與插畫', '投資理財_投資觀念', '行銷_數位行銷', '藝術_電腦繪圖', '攝影_影像創作', '攝影_後製剪輯', '語言_日文', '職場技能_職場溝通', '生活品味_烹飪料理與甜點', '行銷_文案', '職場技能_資料彙整', '職場技能_效率提升', '行銷_社群行銷', '設計_網頁設計', '投資理財_金融商品', '攝影_商業攝影', '職場技能_文書處理', '職場技能_個人品牌經營', '生活品味_心靈成長與教育', '程式_程式入門', '生活品味_運動', '程式_程式語言', '職場技能_創業', '手作_手作小物', '設計_動態設計', '藝術_手寫字', '生活品味_壓力舒緩', '藝術_角色設計', '程式_網頁前端', '設計_應用設計', '語言_韓文', '藝術_色彩學', '音樂_樂器', '手作_更多手作', '攝影_動態攝影', '設計_介面設計', '職場技能_產品設計', '人文_文學', '藝術_字體設計', '藝術_更多藝術', '程式_量化分析', '設計_設計理論', '生活品味_護膚保養與化妝', '人文_社會科學', '生活品味_更多生活品味', '程式_網站架設', '程式_資料科學', '職場技能_求職', '攝影_影視創作', '職場技能_更多職場技能', '程式_程式理財', '音樂_音樂創作', '藝術_素描', '生活品味_寵物', '行銷_更多行銷', '投資理財_更多投資理財', '程式_手機程式開發', '音樂_人聲', '手作_刺繡', '程式_網頁後端', '程式_程式思維', '攝影_攝影理論', '生活品味_親子教育', '程式_區塊鏈', '投資理財_量化交易', '語言_西班牙文', '攝影_更多攝影', '設計_更多設計', '語言_歐洲語言', '手作_手工書', '程式_資訊安全', '手作_手工印刷', '音樂_音樂理論', '程式_遊戲開發', '程式_軟體程式開發與維護', '人文_更多人文', '投資理財_比特幣', '音樂_更多音樂', '語言_更多語言', '手作_篆刻', '音樂_DJ', '生活品味_數學', '程式_更多程式', '手作_氣球', '職場技能_獨立接案', '生活品味_居家', '行銷_數據分析', '程式_AI 人工智慧', '生活品味_靈性發展', '藝術_表演藝術', '手作_模型', '語言_翻譯']\n",
      "[47810, 25826, 23208, 21598, 20717, 20550, 20033, 19220, 18473, 17483, 17379, 16491, 15101, 15073, 14953, 14263, 13309, 13248, 13150, 13083, 13051, 13025, 12175, 11662, 10852, 10696, 10630, 10577, 10142, 9257, 8890, 8597, 8516, 8332, 7738, 7586, 7564, 7489, 7445, 7442, 7390, 7021, 7000, 6983, 6958, 6890, 6804, 6720, 6690, 6234, 6181, 6153, 6076, 6067, 6053, 6046, 5683, 5593, 5424, 5225, 5199, 5023, 4949, 4884, 4766, 4556, 4462, 4286, 4092, 4073, 3925, 3885, 3853, 3702, 3418, 3385, 3269, 3231, 3189, 2666, 2624, 2508, 2449, 1926, 1728, 1628, 1222, 1060, 172, 157, 148, 111, 81, 65, 52, 42]\n"
     ]
    }
   ],
   "source": [
    "# user = user.assign(course_taken = [len(x) for x in data['course_id']])\n",
    "tmp = defaultdict(int)\n",
    "for i in range(len(user)):\n",
    "    for x in user['interests'][i]:\n",
    "        tmp[x] += 1\n",
    "\n",
    "tmp = sorted(tmp.items(), key=lambda x: x[1], reverse=True)\n",
    "print('kinds of interests:', len(tmp))\n",
    "# print(tmp)\n",
    "\n",
    "\n",
    "id2iid = [k for k, v in tmp]\n",
    "iid2id = {x: i  for i, x in enumerate(id2iid)}\n",
    "counts = [v for k, v in tmp]\n",
    "\n",
    "print(id2iid)\n",
    "print(counts)\n",
    "\n",
    "# id2iid = [[i, x] for i, x in enumerate(id2iid)]\n",
    "# id2iid = pd.DataFrame(id2iid, columns=['index', 'interests'])\n",
    "# id2iid.to_csv('id2iid.csv', index=False, columns=['index', 'interests'])\n",
    "\n",
    "# plt.plot([i for i in range(len(counts))], sorted(counts))\n"
   ]
  },
  {
   "cell_type": "code",
   "execution_count": 5,
   "metadata": {},
   "outputs": [
    {
     "name": "stderr",
     "output_type": "stream",
     "text": [
      "/tmp/ipykernel_876059/1708876900.py:3: SettingWithCopyWarning: \n",
      "A value is trying to be set on a copy of a slice from a DataFrame\n",
      "\n",
      "See the caveats in the documentation: https://pandas.pydata.org/pandas-docs/stable/user_guide/indexing.html#returning-a-view-versus-a-copy\n",
      "  preprocessed['interests'][i] = ' '.join(str(iid2id[x]) for x in preprocessed['interests'][i])\n"
     ]
    },
    {
     "name": "stdout",
     "output_type": "stream",
     "text": [
      "                    user_id  gender                      interests\n",
      "0  54ccaa73a784960a00948687       0       26 7 39 28 3 5 6 31 4 21\n",
      "1  54dca4456d7d350900e86bae       1  28 3 33 23 25 31 39 32 7 55 4\n",
      "2  54e421bac5c9c00900cd8d47       0                 3 14 4 6 20 11\n",
      "3  54e961d4c5c9c00900cd8d84       2              2 8 5 43 36 18 55\n",
      "4  54e9b744c5c9c00900cd8d8a       2                32 2 5 25 45 18\n",
      "['26', '7', '39', '28', '3', '5', '6', '31', '4', '21']\n"
     ]
    }
   ],
   "source": [
    "preprocessed = user.copy()\n",
    "for i in range(len(preprocessed)):\n",
    "    preprocessed['interests'][i] = ' '.join(str(iid2id[x]) for x in preprocessed['interests'][i])\n",
    "preprocessed.to_csv('users_preprocessed.csv', index=False, columns=['user_id', 'gender', 'interests'])\n",
    "df = pd.read_csv('users_preprocessed.csv')\n",
    "print(df.head(5))\n",
    "print(df['interests'][0].split(' '))"
   ]
  }
 ],
 "metadata": {
  "kernelspec": {
   "display_name": "Python 3.8.10 ('adl_env': venv)",
   "language": "python",
   "name": "python3"
  },
  "language_info": {
   "codemirror_mode": {
    "name": "ipython",
    "version": 3
   },
   "file_extension": ".py",
   "mimetype": "text/x-python",
   "name": "python",
   "nbconvert_exporter": "python",
   "pygments_lexer": "ipython3",
   "version": "3.8.10 (default, Nov 14 2022, 12:59:47) \n[GCC 9.4.0]"
  },
  "orig_nbformat": 4,
  "vscode": {
   "interpreter": {
    "hash": "63b9acef26227fa3e31b1dab21425c74193e9e974f0b83e797037bcd4bb781d0"
   }
  }
 },
 "nbformat": 4,
 "nbformat_minor": 2
}
